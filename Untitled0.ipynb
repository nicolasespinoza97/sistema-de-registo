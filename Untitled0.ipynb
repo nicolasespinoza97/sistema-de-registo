{
  "nbformat": 4,
  "nbformat_minor": 0,
  "metadata": {
    "colab": {
      "provenance": [],
      "authorship_tag": "ABX9TyOqo17hnQiCHzh7vsEU3/D6",
      "include_colab_link": true
    },
    "kernelspec": {
      "name": "python3",
      "display_name": "Python 3"
    },
    "language_info": {
      "name": "python"
    }
  },
  "cells": [
    {
      "cell_type": "markdown",
      "metadata": {
        "id": "view-in-github",
        "colab_type": "text"
      },
      "source": [
        "<a href=\"https://colab.research.google.com/github/nicolasespinoza97/sistema-de-registo/blob/main/Untitled0.ipynb\" target=\"_parent\"><img src=\"https://colab.research.google.com/assets/colab-badge.svg\" alt=\"Open In Colab\"/></a>"
      ]
    },
    {
      "cell_type": "code",
      "execution_count": 1,
      "metadata": {
        "colab": {
          "base_uri": "https://localhost:8080/",
          "height": 0
        },
        "id": "cHSzGNYTEzy0",
        "outputId": "5adc315e-ab5d-424f-c7a5-3a21a7ac1278"
      },
      "outputs": [
        {
          "output_type": "stream",
          "name": "stdout",
          "text": [
            "¡hola Mundo!\n"
          ]
        }
      ],
      "source": [
        "print('¡Hola Mundo!')"
      ]
    },
    {
      "cell_type": "code",
      "source": [
        "print(\"Escuela De Datos De Alura\")"
      ],
      "metadata": {
        "colab": {
          "base_uri": "https://localhost:8080/",
          "height": 0
        },
        "id": "Nk6akM6IFTST",
        "outputId": "cdb8c61c-0d4f-440f-9753-62f2a9394945"
      },
      "execution_count": 2,
      "outputs": [
        {
          "output_type": "stream",
          "name": "stdout",
          "text": [
            "Escuela De Datos De Alura\n"
          ]
        }
      ]
    },
    {
      "cell_type": "code",
      "source": [
        "Nombre = 'Nicolas'\n",
        "Apellido = 'Espinoza'\n",
        "\n",
        "print(f\"Mi Nombre Es: {Nombre} {Apellido}\")"
      ],
      "metadata": {
        "colab": {
          "base_uri": "https://localhost:8080/",
          "height": 0
        },
        "id": "i353NrlHFn-b",
        "outputId": "fb394a1d-d1c5-4b75-b3b9-4d81213551a1"
      },
      "execution_count": 6,
      "outputs": [
        {
          "output_type": "stream",
          "name": "stdout",
          "text": [
            "Mi Nombre Es: Nicolas Espinoza\n"
          ]
        }
      ]
    },
    {
      "cell_type": "code",
      "source": [
        "Letra1 = 'N'\n",
        "Letra2 = 'I'\n",
        "Letra3 = 'C'\n",
        "Letra4 = 'O'\n",
        "Letra5 = 'L'\n",
        "Letra6 = 'A'\n",
        "Letra7 = 'S'\n",
        "\n",
        "print(f\"Mi Nombre Letra Por Letra Es {Letra1}{Letra2}{Letra3}{Letra4}{Letra5}{Letra6}{Letra7}\")"
      ],
      "metadata": {
        "colab": {
          "base_uri": "https://localhost:8080/"
        },
        "id": "EO5vPMG1HRY6",
        "outputId": "a9d2915b-24e2-4dd7-8df1-4c9bd913d48f"
      },
      "execution_count": 9,
      "outputs": [
        {
          "output_type": "stream",
          "name": "stdout",
          "text": [
            "Mi Nombre Letra Por Letra Es NICOLAS\n"
          ]
        }
      ]
    },
    {
      "cell_type": "code",
      "source": [
        "Dia = '23'\n",
        "Mes = '05'\n",
        "Año = '1997'\n",
        "\n",
        "print(f\"Mi Fecha De Nacimiento Es: {Dia}/{Mes}/{Año}\")\n"
      ],
      "metadata": {
        "colab": {
          "base_uri": "https://localhost:8080/"
        },
        "id": "f33y-TMOIL_b",
        "outputId": "3ad0d017-3777-42cc-f470-b9c5a94e6808"
      },
      "execution_count": 10,
      "outputs": [
        {
          "output_type": "stream",
          "name": "stdout",
          "text": [
            "Mi Fecha De Nacimiento Es: 23/05/1997\n"
          ]
        }
      ]
    },
    {
      "cell_type": "code",
      "source": [
        "año_actual = '2025'\n",
        "print(f\"El Año Actual Es: {año_actual}\")"
      ],
      "metadata": {
        "colab": {
          "base_uri": "https://localhost:8080/"
        },
        "id": "wyvLLf4-JWOZ",
        "outputId": "4512b024-76a1-44a2-9012-25f2dedc786e"
      },
      "execution_count": 15,
      "outputs": [
        {
          "output_type": "stream",
          "name": "stdout",
          "text": [
            "El Año Actual Es: 2025\n"
          ]
        }
      ]
    }
  ]
}